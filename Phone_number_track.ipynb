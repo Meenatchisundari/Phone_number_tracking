{
  "nbformat": 4,
  "nbformat_minor": 0,
  "metadata": {
    "colab": {
      "provenance": [],
      "authorship_tag": "ABX9TyM8//ES3+jWledgDl/eQQbW",
      "include_colab_link": true
    },
    "kernelspec": {
      "name": "python3",
      "display_name": "Python 3"
    },
    "language_info": {
      "name": "python"
    }
  },
  "cells": [
    {
      "cell_type": "markdown",
      "metadata": {
        "id": "view-in-github",
        "colab_type": "text"
      },
      "source": [
        "<a href=\"https://colab.research.google.com/github/Meenatchisundari/Phone_number_tracking/blob/main/Phone_number_track.ipynb\" target=\"_parent\"><img src=\"https://colab.research.google.com/assets/colab-badge.svg\" alt=\"Open In Colab\"/></a>"
      ]
    },
    {
      "cell_type": "code",
      "source": [
        "import phonenumbers\n",
        "from phonenumbers import geocoder\n",
        "\n",
        "number =\"+91XXXXXXXXXX\"\n",
        "\n",
        "import folium\n",
        "\n",
        "check_number = phonenumbers.parse(number)\n",
        "number_location = geocoder.description_for_number(check_number, \"en\")\n",
        "print(number_location)"
      ],
      "metadata": {
        "colab": {
          "base_uri": "https://localhost:8080/"
        },
        "id": "9Jt1cst5_j7y",
        "outputId": "44f2199a-b15d-4e36-ec2d-e8f343b8fe6b"
      },
      "execution_count": null,
      "outputs": [
        {
          "output_type": "stream",
          "name": "stdout",
          "text": [
            "India\n"
          ]
        }
      ]
    },
    {
      "cell_type": "code",
      "source": [
        "from phonenumbers import carrier"
      ],
      "metadata": {
        "id": "KzdD1QnXAYRS"
      },
      "execution_count": null,
      "outputs": []
    },
    {
      "cell_type": "code",
      "source": [
        "service_provider = phonenumbers.parse(number)\n",
        "print(carrier.name_for_number(service_provider,\"en\"))"
      ],
      "metadata": {
        "colab": {
          "base_uri": "https://localhost:8080/"
        },
        "id": "CMNx0OgUAxDv",
        "outputId": "4e43de91-d6d7-4706-f5e3-be0c63cc4fc4"
      },
      "execution_count": null,
      "outputs": [
        {
          "output_type": "stream",
          "name": "stdout",
          "text": [
            "BSNL MOBILE\n"
          ]
        }
      ]
    },
    {
      "cell_type": "code",
      "source": [
        "Key = \"AAAAAAAAAAAAAAAAAAAAAAAAAAAAAAAAAAAAAAA\""
      ],
      "metadata": {
        "id": "ptzY2XK_Efc6"
      },
      "execution_count": null,
      "outputs": []
    },
    {
      "cell_type": "code",
      "source": [
        "from google.colab import drive\n",
        "drive.mount('/content/drive')"
      ],
      "metadata": {
        "id": "NQTcjvh9H9Gc"
      },
      "execution_count": null,
      "outputs": []
    },
    {
      "cell_type": "code",
      "source": [
        "from opencage.geocoder import OpenCageGeocode"
      ],
      "metadata": {
        "id": "4ew91H94BQtu"
      },
      "execution_count": null,
      "outputs": []
    },
    {
      "cell_type": "code",
      "source": [
        "geocoder = OpenCageGeocode(Key)\n",
        "\n",
        "query = str(number_location)\n",
        "results = geocoder.geocode(query)\n",
        "lat = results[0]['geometry']['lat']\n",
        "lng = results[0]['geometry']['lng']\n",
        "print(lat,lng)"
      ],
      "metadata": {
        "colab": {
          "base_uri": "https://localhost:8080/"
        },
        "id": "8hRX6c1_EpbX",
        "outputId": "a5808636-221d-42d2-b0b1-b43f918bfa65"
      },
      "execution_count": null,
      "outputs": [
        {
          "output_type": "stream",
          "name": "stdout",
          "text": [
            "22.3511148 78.6677428\n"
          ]
        }
      ]
    },
    {
      "cell_type": "code",
      "source": [
        "map_location = folium.Map(location =[lat,lng], zoom_start=9)\n",
        "folium.Marker([lat,lng], popup= number_location).add_to(map_location)\n",
        "map_location.save(\"mylocation.html\")"
      ],
      "metadata": {
        "id": "eOsQtXnyEpqq"
      },
      "execution_count": null,
      "outputs": []
    }
  ]
}